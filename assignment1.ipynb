{
  "nbformat": 4,
  "nbformat_minor": 0,
  "metadata": {
    "colab": {
      "provenance": [],
      "authorship_tag": "ABX9TyN6J9mj0+nflWSf7zE23aAw",
      "include_colab_link": true
    },
    "kernelspec": {
      "name": "python3",
      "display_name": "Python 3"
    },
    "language_info": {
      "name": "python"
    }
  },
  "cells": [
    {
      "cell_type": "markdown",
      "metadata": {
        "id": "view-in-github",
        "colab_type": "text"
      },
      "source": [
        "<a href=\"https://colab.research.google.com/github/Ancy-padmanabhan/Assignments/blob/main/assignment1.ipynb\" target=\"_parent\"><img src=\"https://colab.research.google.com/assets/colab-badge.svg\" alt=\"Open In Colab\"/></a>"
      ]
    },
    {
      "cell_type": "code",
      "execution_count": 5,
      "metadata": {
        "colab": {
          "base_uri": "https://localhost:8080/"
        },
        "id": "_ECESZ1f7e3e",
        "outputId": "e4b66068-2abd-4b80-fb37-6e2ba2f212a9"
      },
      "outputs": [
        {
          "output_type": "stream",
          "name": "stdout",
          "text": [
            "enter the radius of the circle6\n",
            "area of the circle 113.04\n"
          ]
        }
      ],
      "source": [
        "radius=int(input(\"enter the radius of the circle\"))\n",
        "area=radius*radius*3.14\n",
        "print(f\"area of the circle {area}\")"
      ]
    },
    {
      "cell_type": "code",
      "source": [
        "Name=str(input(\"Enter your name \"))\n",
        "Roll=int(input(\"Enter your Rollnumber \"))\n",
        "Mark=float(input(\"Enter your Mark \"))\n",
        "print(f\"your Name :{Name} \\nyour Rollnumber:{Roll} \\n Your Mark:{Mark}\")"
      ],
      "metadata": {
        "colab": {
          "base_uri": "https://localhost:8080/"
        },
        "id": "abjQYHowAFlx",
        "outputId": "47248d86-c6d1-4d4f-9fd3-f00cde95b932"
      },
      "execution_count": 12,
      "outputs": [
        {
          "output_type": "stream",
          "name": "stdout",
          "text": [
            "Enter your name Ancy\n",
            "Enter your Rollnumber 789\n",
            "Enter your Mark 99\n",
            "your Name :Ancy \n",
            "your Rollnumber:789 \n",
            " Your Mark:99.0\n"
          ]
        }
      ]
    },
    {
      "cell_type": "code",
      "source": [
        "L=[12,3,47,10]\n",
        "L.sort()\n",
        "print(\"The largest number is \\t\",L[-1])"
      ],
      "metadata": {
        "colab": {
          "base_uri": "https://localhost:8080/"
        },
        "id": "9g8Fo9pzBgWj",
        "outputId": "68d990c9-7aca-4b7a-db82-a41288e04e84"
      },
      "execution_count": 20,
      "outputs": [
        {
          "output_type": "stream",
          "name": "stdout",
          "text": [
            "The largest number is \t 47\n"
          ]
        }
      ]
    },
    {
      "cell_type": "code",
      "source": [
        "n=1\n",
        "for i in range (0,10):\n",
        "  print (\"Current number\",{i+1}, \"Previous number\",{i},\"Sum =\",{i+(i+1)})\n"
      ],
      "metadata": {
        "colab": {
          "base_uri": "https://localhost:8080/"
        },
        "id": "XmVBdOibC8TC",
        "outputId": "c1807a54-461b-4191-a0e0-30a6b0389204"
      },
      "execution_count": 28,
      "outputs": [
        {
          "output_type": "stream",
          "name": "stdout",
          "text": [
            "Current number {1} Previous number {0} Sum = {1}\n",
            "Current number {2} Previous number {1} Sum = {3}\n",
            "Current number {3} Previous number {2} Sum = {5}\n",
            "Current number {4} Previous number {3} Sum = {7}\n",
            "Current number {5} Previous number {4} Sum = {9}\n",
            "Current number {6} Previous number {5} Sum = {11}\n",
            "Current number {7} Previous number {6} Sum = {13}\n",
            "Current number {8} Previous number {7} Sum = {15}\n",
            "Current number {9} Previous number {8} Sum = {17}\n",
            "Current number {10} Previous number {9} Sum = {19}\n"
          ]
        }
      ]
    },
    {
      "cell_type": "code",
      "source": [
        "list_1=[]\n",
        "list_2=[]\n",
        "n=int(input(\"Enter the number of elements in the list\"))\n",
        "for i in range(0,n):\n",
        "  e=int(input())\n",
        "  list_1.append(e)\n",
        "print(\"The entered set of numbers\",2list_1)\n",
        "for i in range(0,n):\n",
        "  if list_1[i]%5==0:\n",
        "   list_2.append(list_1[i])\n",
        "print(\"the numbers divisible by 5 are\",list_2)\n"
      ],
      "metadata": {
        "colab": {
          "base_uri": "https://localhost:8080/"
        },
        "id": "phLUbMz7Ews4",
        "outputId": "7fa1ec2b-7207-4087-a3df-f94fb760fedd"
      },
      "execution_count": 41,
      "outputs": [
        {
          "output_type": "stream",
          "name": "stdout",
          "text": [
            "Enter the number of elements in the list5\n",
            "10\n",
            "5\n",
            "86\n",
            "95\n",
            "15\n",
            "The entered set of numbers [10, 5, 86, 95, 15]\n",
            "the numbers divisible by 5 are [10, 5, 95, 15]\n"
          ]
        }
      ]
    },
    {
      "cell_type": "code",
      "source": [
        "n=int(input(\"Enter the number\"))\n",
        "flag=False\n",
        "for i in range(2,n):\n",
        "  if(n%i==0):\n",
        "    flag=True\n",
        "    break\n",
        "if flag==True:\n",
        "    print(\"Not a Prime number\")\n",
        "else:\n",
        "    print(\"Prime Number\")"
      ],
      "metadata": {
        "colab": {
          "base_uri": "https://localhost:8080/"
        },
        "id": "fEkiHMdWHrMY",
        "outputId": "0573a289-aa88-473a-ba4e-bf823614203e"
      },
      "execution_count": 55,
      "outputs": [
        {
          "output_type": "stream",
          "name": "stdout",
          "text": [
            "Enter the number4\n",
            "Not a Prime number\n"
          ]
        }
      ]
    },
    {
      "cell_type": "code",
      "source": [
        "list_1=[12,14,15,13,16]\n",
        "print(\"original list\",list_1)\n",
        "list_1.reverse()\n",
        "print(\"reversed list\",list_1)\n"
      ],
      "metadata": {
        "colab": {
          "base_uri": "https://localhost:8080/"
        },
        "id": "6_BORqkjMEN8",
        "outputId": "e42a89c9-1fea-4d0c-8678-2ec9ff04d6a5"
      },
      "execution_count": 57,
      "outputs": [
        {
          "output_type": "stream",
          "name": "stdout",
          "text": [
            "original list [12, 14, 15, 13, 16]\n",
            "reversed list [16, 13, 15, 14, 12]\n"
          ]
        }
      ]
    },
    {
      "cell_type": "code",
      "source": [
        "print(\"*\\n**\\n***\\n****\")"
      ],
      "metadata": {
        "colab": {
          "base_uri": "https://localhost:8080/"
        },
        "id": "2uNHVC8XQ-9u",
        "outputId": "c7a100f6-0766-4902-c310-7d2768c96a6e"
      },
      "execution_count": 83,
      "outputs": [
        {
          "output_type": "stream",
          "name": "stdout",
          "text": [
            "*\n",
            "**\n",
            "***\n",
            "****\n"
          ]
        }
      ]
    },
    {
      "cell_type": "code",
      "source": [
        "def max(x,y,z):\n",
        "    if (x>y) and (x>z):\n",
        "     print(f\"{x} is greater\")\n",
        "    elif (y>z) and (y>x):\n",
        "      print(f\"{y} is greater\")\n",
        "    else:\n",
        "      print(f\"{z} is greater\")\n",
        "x=int(input(\"Enter the first number\"))\n",
        "y=int(input(\"Enter the second number\"))\n",
        "z=int(input(\"Enter the third number\"))\n",
        "max(x,y,z)"
      ],
      "metadata": {
        "colab": {
          "base_uri": "https://localhost:8080/"
        },
        "id": "6s5tn6JTOpTN",
        "outputId": "625c4a91-79cb-441e-a6d4-1093a5125497"
      },
      "execution_count": 81,
      "outputs": [
        {
          "output_type": "stream",
          "name": "stdout",
          "text": [
            "Enter the first number4\n",
            "Enter the second number9\n",
            "Enter the third number4\n",
            "9 is greater\n"
          ]
        }
      ]
    },
    {
      "cell_type": "code",
      "source": [
        "n=4\n",
        "for i in range(0,n):\n",
        "  for j in range(0,i+1):\n",
        "    print(\"* \",end=\"\")\n",
        "  print(\"\\r\")\n"
      ],
      "metadata": {
        "colab": {
          "base_uri": "https://localhost:8080/"
        },
        "id": "d23Pl8GRM229",
        "outputId": "c4168ef4-646a-437a-d484-ecd657ec2c7c"
      },
      "execution_count": 65,
      "outputs": [
        {
          "output_type": "stream",
          "name": "stdout",
          "text": [
            "* \r\n",
            "* * \r\n",
            "* * * \r\n",
            "* * * * \r\n"
          ]
        }
      ]
    }
  ]
}