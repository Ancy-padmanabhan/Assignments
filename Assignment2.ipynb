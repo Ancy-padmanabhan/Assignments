{
  "nbformat": 4,
  "nbformat_minor": 0,
  "metadata": {
    "colab": {
      "provenance": [],
      "authorship_tag": "ABX9TyNeIwAtl2wb1BddsmBeDCzR",
      "include_colab_link": true
    },
    "kernelspec": {
      "name": "python3",
      "display_name": "Python 3"
    },
    "language_info": {
      "name": "python"
    }
  },
  "cells": [
    {
      "cell_type": "markdown",
      "metadata": {
        "id": "view-in-github",
        "colab_type": "text"
      },
      "source": [
        "<a href=\"https://colab.research.google.com/github/Ancy-padmanabhan/Assignments/blob/main/Assignment2.ipynb\" target=\"_parent\"><img src=\"https://colab.research.google.com/assets/colab-badge.svg\" alt=\"Open In Colab\"/></a>"
      ]
    },
    {
      "cell_type": "code",
      "execution_count": 4,
      "metadata": {
        "colab": {
          "base_uri": "https://localhost:8080/"
        },
        "id": "WSvjmCuVaJAG",
        "outputId": "a360d3a7-9587-4c27-a856-c9378938bbc7"
      },
      "outputs": [
        {
          "output_type": "stream",
          "name": "stdout",
          "text": [
            " Enter the string Lincy is a girl\n",
            "Count of all characters in GeeksforGeeks is :\n",
            " {'L': 1, 'i': 3, 'n': 1, 'c': 1, 'y': 1, ' ': 3, 's': 1, 'a': 1, 'g': 1, 'r': 1, 'l': 1}\n"
          ]
        }
      ],
      "source": [
        "string1=str(input(\" Enter the string \"))\n",
        "freq = {}\n",
        "\n",
        "for i in string1:\n",
        "    if i in freq:\n",
        "        freq[i] += 1\n",
        "    else:\n",
        "        freq[i] = 1\n",
        "print(\"Count of all characters in GeeksforGeeks is :\\n \" + str(freq))"
      ]
    },
    {
      "cell_type": "code",
      "source": [
        "def max(x,y,z):\n",
        "    if (x>y) and (x>z):\n",
        "     print(f\"{x} is greater\")\n",
        "    elif (y>z) and (y>x):\n",
        "      print(f\"{y} is greater\")\n",
        "    else:\n",
        "      print(f\"{z} is greater\")\n",
        "x=int(input(\"Enter the first number\"))\n",
        "y=int(input(\"Enter the second number\"))\n",
        "z=int(input(\"Enter the third number\"))\n",
        "max(x,y,z)"
      ],
      "metadata": {
        "colab": {
          "base_uri": "https://localhost:8080/"
        },
        "id": "fbXzfY2j70zZ",
        "outputId": "874726bf-40c3-4fc4-e25c-69b21e1af349"
      },
      "execution_count": 5,
      "outputs": [
        {
          "output_type": "stream",
          "name": "stdout",
          "text": [
            "Enter the first number3\n",
            "Enter the second number78\n",
            "Enter the third number4\n",
            "78 is greater\n"
          ]
        }
      ]
    },
    {
      "cell_type": "code",
      "source": [
        "b=int(input(\"Enter the base\"))\n",
        "e=int(input(\"Enter the exponent\"))\n",
        "def Power(b,e):\n",
        "  P=1\n",
        "  for i in range(1,e+1):\n",
        "    P=P*b\n",
        "  return P\n",
        "\n",
        "print(Power(b,e))\n",
        "\n"
      ],
      "metadata": {
        "colab": {
          "base_uri": "https://localhost:8080/"
        },
        "id": "Fup4PM_a8x3m",
        "outputId": "a65ce942-f9e9-4ec2-8321-2a1f94584872"
      },
      "execution_count": 28,
      "outputs": [
        {
          "output_type": "stream",
          "name": "stdout",
          "text": [
            "Enter the base4\n",
            "Enter the exponent4\n",
            "256\n"
          ]
        }
      ]
    },
    {
      "cell_type": "code",
      "source": [
        "def sum_cubes(n):\n",
        "    n -= 1\n",
        "    total = 0\n",
        "    while n > 0:\n",
        "        total += n * n * n\n",
        "        n -= 1\n",
        "    return total\n",
        "x=int(input(\"Enter the limit\\t\"))\n",
        "print(\"Sum of cubes smaller than the specified number: \", sum_cubes(x))\n"
      ],
      "metadata": {
        "colab": {
          "base_uri": "https://localhost:8080/"
        },
        "id": "fIoTaLXBKcCK",
        "outputId": "07319d9a-7ccb-4fd2-bc12-94b9bbe199c7"
      },
      "execution_count": 53,
      "outputs": [
        {
          "output_type": "stream",
          "name": "stdout",
          "text": [
            "Enter the limit\t4\n",
            "Sum of cubes smaller than the specified number:  36\n"
          ]
        }
      ]
    },
    {
      "cell_type": "code",
      "source": [
        "r=int(input(\"enter the range\"))\n",
        "i=1\n",
        "for i in range(r+1):\n",
        "    if i % 2 == 0 and i % 5 == 0:\n",
        "        print(\"fizzbuzz\")\n",
        "        continue\n",
        "    elif i % 2 == 0:\n",
        "        print(\"fizz\")\n",
        "        continue\n",
        "    elif i % 5 == 0:\n",
        "        print(\"buzz\")\n",
        "        continue\n",
        "    print(i)"
      ],
      "metadata": {
        "colab": {
          "base_uri": "https://localhost:8080/"
        },
        "id": "kMPdFK_-LshW",
        "outputId": "5c8e3f08-4794-41f5-d05b-915c3b211c97"
      },
      "execution_count": 67,
      "outputs": [
        {
          "output_type": "stream",
          "name": "stdout",
          "text": [
            "enter the range10\n",
            "fizzbuzz\n",
            "1\n",
            "fizz\n",
            "3\n",
            "fizz\n",
            "buzz\n",
            "fizz\n",
            "7\n",
            "fizz\n",
            "9\n",
            "fizzbuzz\n"
          ]
        }
      ]
    },
    {
      "cell_type": "code",
      "source": [
        "def freq(List):\n",
        "    count_1 = 0\n",
        "    num = List[0]\n",
        "\n",
        "    for i in List:\n",
        "        curr_freq = List.count(i)\n",
        "        if(curr_freq> count_1):\n",
        "            count_1 = curr_freq\n",
        "            num = i\n",
        "\n",
        "    return num\n",
        "\n",
        "List = [2, 1, 3, 3, 1, 3]\n",
        "print(freq(List))"
      ],
      "metadata": {
        "colab": {
          "base_uri": "https://localhost:8080/"
        },
        "id": "wqymiVS8PlK_",
        "outputId": "0ec5e29a-ab9c-4103-b8ef-8567045c2e91"
      },
      "execution_count": 70,
      "outputs": [
        {
          "output_type": "stream",
          "name": "stdout",
          "text": [
            "3\n"
          ]
        }
      ]
    },
    {
      "cell_type": "code",
      "source": [
        "list_1 = [1, 5, 1, 9, 15]\n",
        "\n",
        "print(\"The the list is : \" + str(list_1))\n",
        "\n",
        "res = 0\n",
        "for i in list_1:\n",
        "    from math import pow\n",
        "    res += pow(i, 2)\n",
        "res = int(res)\n",
        "print(\"The sum of squares of list is : \" + str(res))"
      ],
      "metadata": {
        "colab": {
          "base_uri": "https://localhost:8080/"
        },
        "id": "Y1Z8ml2uSj-H",
        "outputId": "3cc13b67-7c0b-4905-8ceb-a4ed327dfa90"
      },
      "execution_count": 77,
      "outputs": [
        {
          "output_type": "stream",
          "name": "stdout",
          "text": [
            "The the list is : [1, 5, 1, 9, 15]\n",
            "The sum of squares of list is : 333\n"
          ]
        }
      ]
    },
    {
      "cell_type": "code",
      "source": [
        "end=int(input(\"Enter the range\"))\n",
        "for num in range(1, end + 1):\n",
        "\n",
        "    if num & 1 != 0:\n",
        "       print(num, end = \"--Odd\\n\")\n",
        "    else:\n",
        "       print(num, end = \"--Even\\n\")"
      ],
      "metadata": {
        "colab": {
          "base_uri": "https://localhost:8080/"
        },
        "id": "XzBIXHzsTIA0",
        "outputId": "a0ac6c36-0aa9-4f92-9f4f-5a9570b159ff"
      },
      "execution_count": 82,
      "outputs": [
        {
          "output_type": "stream",
          "name": "stdout",
          "text": [
            "Enter the range10\n",
            "1--Odd\n",
            "2--Even\n",
            "3--Odd\n",
            "4--Even\n",
            "5--Odd\n",
            "6--Even\n",
            "7--Odd\n",
            "8--Even\n",
            "9--Odd\n",
            "10--Even\n"
          ]
        }
      ]
    },
    {
      "cell_type": "code",
      "source": [
        "s=str(input(\"Temperature conversions Type C for celcius F for Farenheit\"))\n",
        "if s==\"C\" or s==\"c\":\n",
        "  celsius = float(input(\"Enter temperature in celsius: \"))\n",
        "  fahrenheit = (celsius * 1.8) + 32\n",
        "  print(str(celsius )+ \" degree Celsius is equal to \" + str(fahrenheit )+\" degree Fahrenheit.\")\n",
        "elif s==\"F\" or s==\"f\":\n",
        "  fahrenheit=float(input(\"Enter temperature in Farenheit: \"))\n",
        "  celcius=0.5555*(fahrenheit-32)\n",
        "  print(str(fahrenheit)+ \" degree Fahrenheit is equal to \" + str(celcius)+\" degree Celcius.\")\n",
        "else:\n",
        "  print(\"Invalid Input\")"
      ],
      "metadata": {
        "colab": {
          "base_uri": "https://localhost:8080/"
        },
        "id": "-absbQhWUhLz",
        "outputId": "df03db5d-5950-49b4-fd1f-494a58052762"
      },
      "execution_count": 91,
      "outputs": [
        {
          "output_type": "stream",
          "name": "stdout",
          "text": [
            "Temperature conversions Type C for celcius F for Farenheitf\n",
            "Enter temperature in Farenheit: 1\n",
            "1.0 degree Fahrenheit is equal to -17.2205 degree Celcius.\n"
          ]
        }
      ]
    },
    {
      "cell_type": "code",
      "source": [
        "def factorial(n):\n",
        "    return 1 if (n==1 or n==0) else n * factorial(n - 1)\n",
        "n=int(input(\"Enter the number\"))\n",
        "print(\"Factorial of\",n,\"is\",factorial(n))"
      ],
      "metadata": {
        "colab": {
          "base_uri": "https://localhost:8080/"
        },
        "id": "ZA2migGikMFH",
        "outputId": "0301ab85-e1b4-47c6-daaf-4b1d7aeea6f2"
      },
      "execution_count": 93,
      "outputs": [
        {
          "output_type": "stream",
          "name": "stdout",
          "text": [
            "Enter the number7\n",
            "Factorial of 7 is 5040\n"
          ]
        }
      ]
    }
  ]
}